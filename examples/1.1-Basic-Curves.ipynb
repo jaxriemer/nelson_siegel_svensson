{
 "cells": [
  {
   "cell_type": "markdown",
   "metadata": {},
   "source": [
    "# Nelson-Siegel-Svensson Models"
   ]
  },
  {
   "cell_type": "markdown",
   "metadata": {},
   "source": [
    "Nelson-Siegel and Nelson-Siegel-Svensson curves are models for interest rate curve in the financial markets. They provide a parametric formula specifying the interest rate as a function of a future time point."
   ]
  },
  {
   "cell_type": "markdown",
   "metadata": {},
   "source": [
    "**Nelson-Siegel Curve:**\n",
    "\n",
    "$$y(t) = \\beta_0 + \\beta_1 \\Bigg(\\frac{1-e^{\\frac{-t}{\\tau_1}}}{t / \\tau_1}\\Bigg) + \\beta_2 \\Bigg(\\frac{1-e^{\\frac{-t}{\\tau_1}}}{t / \\tau_1} - e^{\\frac{-t}{\\tau_1}}\\Bigg)$$"
   ]
  },
  {
   "cell_type": "markdown",
   "metadata": {},
   "source": [
    "**Nelson-Siegel-Svensson Curve:**\n",
    "\n",
    "$$y(t) = \\beta_0 + \\beta_1 \\Bigg(\\frac{1-e^{\\frac{-t}{\\tau_1}}}{t / \\tau_1}\\Bigg) + \\beta_2 \\Bigg(\\frac{1-e^{\\frac{-t}{\\tau_1}}}{t / \\tau_1} - e^{\\frac{-t}{\\tau_1}}\\Bigg) + \\beta_3 \\Bigg(\\frac{1-e^{\\frac{-t}{\\tau_2}}}{t / \\tau_2} - e^{\\frac{-t}{\\tau_2}}\\Bigg)$$"
   ]
  },
  {
   "cell_type": "markdown",
   "metadata": {},
   "source": [
    "The `nelson_siegel_svensson` Python package provides implementations of both these formulas. The classes `NelsonSiegelCurve` and `NelsonSiegelSvenssonCurve` are instantiated with the parameters and the instances can then be called like functions for a time point (or a `numpy` array of time points)."
   ]
  },
  {
   "cell_type": "code",
   "execution_count": 3,
   "metadata": {},
   "outputs": [],
   "source": [
    "from nelson_siegel_svensson import NelsonSiegelSvenssonCurve\n",
    "import numpy as np\n",
    "from matplotlib import pyplot as plt"
   ]
  },
  {
   "cell_type": "code",
   "execution_count": 4,
   "metadata": {},
   "outputs": [
    {
     "data": {
      "text/plain": [
       "NelsonSiegelSvenssonCurve(beta0=0.028, beta1=-0.03, beta2=-0.04, beta3=-0.015, tau1=1.1, tau2=4.0)"
      ]
     },
     "execution_count": 4,
     "metadata": {},
     "output_type": "execute_result"
    }
   ],
   "source": [
    "y = NelsonSiegelSvenssonCurve(0.028, -0.03, -0.04, -0.015, 1.1, 4.0)\n",
    "y"
   ]
  },
  {
   "cell_type": "code",
   "execution_count": 10,
   "metadata": {},
   "outputs": [
    {
     "data": {
      "text/plain": [
       "-0.002175826394433338"
      ]
     },
     "execution_count": 10,
     "metadata": {},
     "output_type": "execute_result"
    }
   ],
   "source": [
    "y(1.5)  # calling the curve for a single time point"
   ]
  },
  {
   "cell_type": "code",
   "execution_count": 11,
   "metadata": {},
   "outputs": [
    {
     "data": {
      "text/plain": [
       "array([-0.00345177, -0.00046395,  0.00316059])"
      ]
     },
     "execution_count": 11,
     "metadata": {},
     "output_type": "execute_result"
    }
   ],
   "source": [
    "# calling the curve for a numpy array of time points\n",
    "# this is more efficient than calling multiple individual time points\n",
    "y(np.array([1.0, 2.0, 3.0]))"
   ]
  },
  {
   "cell_type": "code",
   "execution_count": 18,
   "metadata": {},
   "outputs": [
    {
     "data": {
      "image/png": "[encoded data removed]",
      "text/plain": [
       "<Figure size 432x288 with 1 Axes>"
      ]
     },
     "metadata": {
      "needs_background": "light"
     },
     "output_type": "display_data"
    }
   ],
   "source": [
    "t = np.linspace(0, 20, 100)\n",
    "plt.plot(t, y(t), label=\"A Nelson-Siegel-Svensson curve\");"
   ]
  },
  {
   "cell_type": "code",
   "execution_count": 19,
   "metadata": {},
   "outputs": [],
   "source": [
    "?plt.plot"
   ]
  }
 ],
 "metadata": {
  "kernelspec": {
   "display_name": "Python 3",
   "language": "python",
   "name": "python3"
  },
  "language_info": {
   "codemirror_mode": {
    "name": "ipython",
    "version": 3
   },
   "file_extension": ".py",
   "mimetype": "text/x-python",
   "name": "python",
   "nbconvert_exporter": "python",
   "pygments_lexer": "ipython3",
   "version": "3.7.2"
  }
 },
 "nbformat": 4,
 "nbformat_minor": 2
}
